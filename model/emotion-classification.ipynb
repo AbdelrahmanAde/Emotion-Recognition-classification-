{
 "cells": [
  {
   "cell_type": "markdown",
   "id": "8eeea1be",
   "metadata": {
    "papermill": {
     "duration": 0.003469,
     "end_time": "2023-01-15T14:56:32.726050",
     "exception": false,
     "start_time": "2023-01-15T14:56:32.722581",
     "status": "completed"
    },
    "tags": []
   },
   "source": [
    "# Data processing "
   ]
  },
  {
   "cell_type": "code",
   "execution_count": 1,
   "id": "149f1c3b",
   "metadata": {
    "execution": {
     "iopub.execute_input": "2023-01-15T14:56:32.733010Z",
     "iopub.status.busy": "2023-01-15T14:56:32.732460Z",
     "iopub.status.idle": "2023-01-15T14:56:37.168352Z",
     "shell.execute_reply": "2023-01-15T14:56:37.167354Z"
    },
    "papermill": {
     "duration": 4.442147,
     "end_time": "2023-01-15T14:56:37.170806",
     "exception": false,
     "start_time": "2023-01-15T14:56:32.728659",
     "status": "completed"
    },
    "tags": []
   },
   "outputs": [],
   "source": [
    "import matplotlib.pyplot as plt\n",
    "import cv2\n",
    "import tensorflow as tf\n",
    "import numpy as np\n",
    "import pathlib\n",
    "import datetime"
   ]
  },
  {
   "cell_type": "code",
   "execution_count": 2,
   "id": "4260f4ce",
   "metadata": {
    "execution": {
     "iopub.execute_input": "2023-01-15T14:56:37.177432Z",
     "iopub.status.busy": "2023-01-15T14:56:37.176891Z",
     "iopub.status.idle": "2023-01-15T14:56:38.684797Z",
     "shell.execute_reply": "2023-01-15T14:56:38.683705Z"
    },
    "papermill": {
     "duration": 1.51375,
     "end_time": "2023-01-15T14:56:38.687240",
     "exception": false,
     "start_time": "2023-01-15T14:56:37.173490",
     "status": "completed"
    },
    "tags": []
   },
   "outputs": [
    {
     "name": "stdout",
     "output_type": "stream",
     "text": [
      "28709\n",
      "['fearful' 'disgusted' 'angry' 'neutral' 'sad' 'surprised' 'happy']\n",
      "7\n"
     ]
    }
   ],
   "source": [
    "data_dir = pathlib.Path(\"../input/emotion-detection-fer/train\")\n",
    "image_count = len(list(data_dir.glob('*/*.png')))\n",
    "print(image_count)\n",
    "# classnames in the dataset specified\n",
    "CLASS_NAMES = np.array([item.name for item in data_dir.glob('*') if item.name != \"LICENSE.txt\" ])\n",
    "print(CLASS_NAMES)\n",
    "# print length of class names\n",
    "output_class_units = len(CLASS_NAMES)\n",
    "print(output_class_units)"
   ]
  },
  {
   "cell_type": "code",
   "execution_count": 3,
   "id": "4bf3e4e3",
   "metadata": {
    "execution": {
     "iopub.execute_input": "2023-01-15T14:56:38.693781Z",
     "iopub.status.busy": "2023-01-15T14:56:38.693481Z",
     "iopub.status.idle": "2023-01-15T14:56:42.178271Z",
     "shell.execute_reply": "2023-01-15T14:56:42.176156Z"
    },
    "papermill": {
     "duration": 3.490498,
     "end_time": "2023-01-15T14:56:42.180397",
     "exception": false,
     "start_time": "2023-01-15T14:56:38.689899",
     "status": "completed"
    },
    "tags": []
   },
   "outputs": [
    {
     "name": "stderr",
     "output_type": "stream",
     "text": [
      "2023-01-15 14:56:39.550029: I tensorflow/stream_executor/cuda/cuda_gpu_executor.cc:937] successful NUMA node read from SysFS had negative value (-1), but there must be at least one NUMA node, so returning NUMA node zero\n",
      "2023-01-15 14:56:39.678206: I tensorflow/stream_executor/cuda/cuda_gpu_executor.cc:937] successful NUMA node read from SysFS had negative value (-1), but there must be at least one NUMA node, so returning NUMA node zero\n",
      "2023-01-15 14:56:39.679038: I tensorflow/stream_executor/cuda/cuda_gpu_executor.cc:937] successful NUMA node read from SysFS had negative value (-1), but there must be at least one NUMA node, so returning NUMA node zero\n",
      "2023-01-15 14:56:39.680876: I tensorflow/core/platform/cpu_feature_guard.cc:142] This TensorFlow binary is optimized with oneAPI Deep Neural Network Library (oneDNN) to use the following CPU instructions in performance-critical operations:  AVX2 AVX512F FMA\n",
      "To enable them in other operations, rebuild TensorFlow with the appropriate compiler flags.\n",
      "2023-01-15 14:56:39.681316: I tensorflow/stream_executor/cuda/cuda_gpu_executor.cc:937] successful NUMA node read from SysFS had negative value (-1), but there must be at least one NUMA node, so returning NUMA node zero\n",
      "2023-01-15 14:56:39.682039: I tensorflow/stream_executor/cuda/cuda_gpu_executor.cc:937] successful NUMA node read from SysFS had negative value (-1), but there must be at least one NUMA node, so returning NUMA node zero\n",
      "2023-01-15 14:56:39.682685: I tensorflow/stream_executor/cuda/cuda_gpu_executor.cc:937] successful NUMA node read from SysFS had negative value (-1), but there must be at least one NUMA node, so returning NUMA node zero\n",
      "2023-01-15 14:56:41.681777: I tensorflow/stream_executor/cuda/cuda_gpu_executor.cc:937] successful NUMA node read from SysFS had negative value (-1), but there must be at least one NUMA node, so returning NUMA node zero\n",
      "2023-01-15 14:56:41.682641: I tensorflow/stream_executor/cuda/cuda_gpu_executor.cc:937] successful NUMA node read from SysFS had negative value (-1), but there must be at least one NUMA node, so returning NUMA node zero\n",
      "2023-01-15 14:56:41.683351: I tensorflow/stream_executor/cuda/cuda_gpu_executor.cc:937] successful NUMA node read from SysFS had negative value (-1), but there must be at least one NUMA node, so returning NUMA node zero\n",
      "2023-01-15 14:56:41.683935: I tensorflow/core/common_runtime/gpu/gpu_device.cc:1510] Created device /job:localhost/replica:0/task:0/device:GPU:0 with 15401 MB memory:  -> device: 0, name: Tesla P100-PCIE-16GB, pci bus id: 0000:00:04.0, compute capability: 6.0\n"
     ]
    }
   ],
   "source": [
    "model = tf.keras.models.Sequential([\n",
    "    # 1st conv\n",
    "  tf.keras.layers.Conv2D(96, (11,11),strides=(4,4), activation='relu', input_shape=(227, 227, 3)),\n",
    "  tf.keras.layers.BatchNormalization(),\n",
    "  tf.keras.layers.MaxPooling2D(2, strides=(2,2)),\n",
    "    # 2nd conv\n",
    "  tf.keras.layers.Conv2D(256, (11,11),strides=(1,1), activation='relu',padding=\"same\"),\n",
    "  tf.keras.layers.BatchNormalization(),\n",
    "     # 3rd conv\n",
    "  tf.keras.layers.Conv2D(384, (3,3),strides=(1,1), activation='relu',padding=\"same\"),\n",
    "  tf.keras.layers.BatchNormalization(),\n",
    "    # 4th conv\n",
    "  tf.keras.layers.Conv2D(384, (3,3),strides=(1,1), activation='relu',padding=\"same\"),\n",
    "  tf.keras.layers.BatchNormalization(),\n",
    "    # 5th Conv\n",
    "  tf.keras.layers.Conv2D(256, (3, 3), strides=(1, 1), activation='relu',padding=\"same\"),\n",
    "  tf.keras.layers.BatchNormalization(),\n",
    "  tf.keras.layers.MaxPooling2D(2, strides=(2, 2)),\n",
    "  # To Flatten layer\n",
    "  tf.keras.layers.Flatten(),\n",
    "  # To FC layer 1\n",
    "  tf.keras.layers.Dense(4096, activation='relu'),\n",
    "    # add dropout 0.5 ==> tf.keras.layers.Dropout(0.5),\n",
    "  #To FC layer 2\n",
    "  tf.keras.layers.Dense(4096, activation='relu'),\n",
    "    # add dropout 0.5 ==> tf.keras.layers.Dropout(0.5),\n",
    "  tf.keras.layers.Dense(output_class_units, activation='sigmoid')\n",
    "])"
   ]
  },
  {
   "cell_type": "code",
   "execution_count": 4,
   "id": "ae12e552",
   "metadata": {
    "execution": {
     "iopub.execute_input": "2023-01-15T14:56:42.187247Z",
     "iopub.status.busy": "2023-01-15T14:56:42.186934Z",
     "iopub.status.idle": "2023-01-15T14:57:01.466850Z",
     "shell.execute_reply": "2023-01-15T14:57:01.465700Z"
    },
    "papermill": {
     "duration": 19.285742,
     "end_time": "2023-01-15T14:57:01.468946",
     "exception": false,
     "start_time": "2023-01-15T14:56:42.183204",
     "status": "completed"
    },
    "tags": []
   },
   "outputs": [
    {
     "name": "stdout",
     "output_type": "stream",
     "text": [
      "Found 28709 images belonging to 7 classes.\n",
      "Found 28709 images belonging to 7 classes.\n",
      "Found 7178 images belonging to 7 classes.\n"
     ]
    }
   ],
   "source": [
    "data_dir2 = pathlib.Path(\"../input/emotion-detection-fer/test\")\n",
    "\n",
    "BATCH_SIZE = 32             # Can be of size 2^n, but not restricted to. for the better utilization of memory\n",
    "IMG_HEIGHT = 227            # input Shape required by the model\n",
    "IMG_WIDTH = 227             # input Shape required by the model\n",
    "STEPS_PER_EPOCH = np.ceil(image_count/BATCH_SIZE)\n",
    "\n",
    "# Rescalingthe pixel values from 0~255 to 0~1 For RGB Channels of the image.\n",
    "image_generator = tf.keras.preprocessing.image.ImageDataGenerator(rescale=1./255)\n",
    "# training_data for model training\n",
    "train_data_gen = image_generator.flow_from_directory(directory=str(data_dir),\n",
    "                                                     batch_size=BATCH_SIZE,\n",
    "                                                     shuffle=True,\n",
    "                                                     target_size=(IMG_HEIGHT, IMG_WIDTH), #Resizing the raw dataset\n",
    "                                                     classes = list(CLASS_NAMES))\n",
    "\n",
    "val_data_gen = image_generator.flow_from_directory(directory=str(data_dir),\n",
    "                                                     batch_size=BATCH_SIZE,\n",
    "                                                     shuffle=True,\n",
    "                                                     target_size=(IMG_HEIGHT, IMG_WIDTH), #Resizing the raw dataset\n",
    "                                                     classes = list(CLASS_NAMES))\n",
    "\n",
    "test_data_gen = image_generator.flow_from_directory(directory=str(data_dir2),\n",
    "                                                     batch_size=BATCH_SIZE,\n",
    "                                                     shuffle=True,\n",
    "                                                     target_size=(IMG_HEIGHT, IMG_WIDTH), #Resizing the raw dataset\n",
    "                                                     classes = list(CLASS_NAMES))"
   ]
  },
  {
   "cell_type": "code",
   "execution_count": 5,
   "id": "d74418d7",
   "metadata": {
    "execution": {
     "iopub.execute_input": "2023-01-15T14:57:01.476577Z",
     "iopub.status.busy": "2023-01-15T14:57:01.475622Z",
     "iopub.status.idle": "2023-01-15T14:57:01.501088Z",
     "shell.execute_reply": "2023-01-15T14:57:01.500020Z"
    },
    "papermill": {
     "duration": 0.032225,
     "end_time": "2023-01-15T14:57:01.504120",
     "exception": false,
     "start_time": "2023-01-15T14:57:01.471895",
     "status": "completed"
    },
    "tags": []
   },
   "outputs": [
    {
     "name": "stdout",
     "output_type": "stream",
     "text": [
      "Model: \"sequential\"\n",
      "_________________________________________________________________\n",
      "Layer (type)                 Output Shape              Param #   \n",
      "=================================================================\n",
      "conv2d (Conv2D)              (None, 55, 55, 96)        34944     \n",
      "_________________________________________________________________\n",
      "batch_normalization (BatchNo (None, 55, 55, 96)        384       \n",
      "_________________________________________________________________\n",
      "max_pooling2d (MaxPooling2D) (None, 27, 27, 96)        0         \n",
      "_________________________________________________________________\n",
      "conv2d_1 (Conv2D)            (None, 27, 27, 256)       2973952   \n",
      "_________________________________________________________________\n",
      "batch_normalization_1 (Batch (None, 27, 27, 256)       1024      \n",
      "_________________________________________________________________\n",
      "conv2d_2 (Conv2D)            (None, 27, 27, 384)       885120    \n",
      "_________________________________________________________________\n",
      "batch_normalization_2 (Batch (None, 27, 27, 384)       1536      \n",
      "_________________________________________________________________\n",
      "conv2d_3 (Conv2D)            (None, 27, 27, 384)       1327488   \n",
      "_________________________________________________________________\n",
      "batch_normalization_3 (Batch (None, 27, 27, 384)       1536      \n",
      "_________________________________________________________________\n",
      "conv2d_4 (Conv2D)            (None, 27, 27, 256)       884992    \n",
      "_________________________________________________________________\n",
      "batch_normalization_4 (Batch (None, 27, 27, 256)       1024      \n",
      "_________________________________________________________________\n",
      "max_pooling2d_1 (MaxPooling2 (None, 13, 13, 256)       0         \n",
      "_________________________________________________________________\n",
      "flatten (Flatten)            (None, 43264)             0         \n",
      "_________________________________________________________________\n",
      "dense (Dense)                (None, 4096)              177213440 \n",
      "_________________________________________________________________\n",
      "dense_1 (Dense)              (None, 4096)              16781312  \n",
      "_________________________________________________________________\n",
      "dense_2 (Dense)              (None, 7)                 28679     \n",
      "=================================================================\n",
      "Total params: 200,135,431\n",
      "Trainable params: 200,132,679\n",
      "Non-trainable params: 2,752\n",
      "_________________________________________________________________\n"
     ]
    }
   ],
   "source": [
    "model.compile(optimizer='adam', loss=\"categorical_crossentropy\", metrics=['accuracy',tf.keras.metrics.Precision(), tf.keras.metrics.Recall()])\n",
    "\n",
    "# Summarizing the model architecture and printing it out\n",
    "model.summary()"
   ]
  },
  {
   "cell_type": "code",
   "execution_count": 6,
   "id": "94d51aef",
   "metadata": {
    "execution": {
     "iopub.execute_input": "2023-01-15T14:57:01.511344Z",
     "iopub.status.busy": "2023-01-15T14:57:01.511063Z",
     "iopub.status.idle": "2023-01-15T15:41:47.194112Z",
     "shell.execute_reply": "2023-01-15T15:41:47.193125Z"
    },
    "papermill": {
     "duration": 2685.689429,
     "end_time": "2023-01-15T15:41:47.196603",
     "exception": false,
     "start_time": "2023-01-15T14:57:01.507174",
     "status": "completed"
    },
    "tags": []
   },
   "outputs": [
    {
     "name": "stderr",
     "output_type": "stream",
     "text": [
      "2023-01-15 14:57:01.731365: I tensorflow/compiler/mlir/mlir_graph_optimization_pass.cc:185] None of the MLIR Optimization Passes are enabled (registered 2)\n"
     ]
    },
    {
     "name": "stdout",
     "output_type": "stream",
     "text": [
      "Epoch 1/20\n"
     ]
    },
    {
     "name": "stderr",
     "output_type": "stream",
     "text": [
      "2023-01-15 14:57:03.603490: I tensorflow/stream_executor/cuda/cuda_dnn.cc:369] Loaded cuDNN version 8005\n"
     ]
    },
    {
     "name": "stdout",
     "output_type": "stream",
     "text": [
      "898/898 [==============================] - 181s 192ms/step - loss: 2.7594 - accuracy: 0.2901 - precision: 0.1818 - recall: 0.8768 - val_loss: 1.6859 - val_accuracy: 0.3438 - val_precision: 0.1860 - val_recall: 0.9303\n",
      "Epoch 2/20\n",
      "898/898 [==============================] - 114s 127ms/step - loss: 1.6506 - accuracy: 0.3524 - precision: 0.1939 - recall: 0.8644 - val_loss: 1.5852 - val_accuracy: 0.3755 - val_precision: 0.1982 - val_recall: 0.8852\n",
      "Epoch 3/20\n",
      "898/898 [==============================] - 114s 126ms/step - loss: 1.5438 - accuracy: 0.4013 - precision: 0.2064 - recall: 0.8606 - val_loss: 1.4939 - val_accuracy: 0.4242 - val_precision: 0.2285 - val_recall: 0.8039\n",
      "Epoch 4/20\n",
      "898/898 [==============================] - 121s 135ms/step - loss: 1.4753 - accuracy: 0.4295 - precision: 0.2131 - recall: 0.8696 - val_loss: 1.5672 - val_accuracy: 0.3802 - val_precision: 0.2248 - val_recall: 0.8169\n",
      "Epoch 5/20\n",
      "898/898 [==============================] - 115s 128ms/step - loss: 1.4185 - accuracy: 0.4541 - precision: 0.2215 - recall: 0.8745 - val_loss: 1.4528 - val_accuracy: 0.4400 - val_precision: 0.2164 - val_recall: 0.8790\n",
      "Epoch 6/20\n",
      "898/898 [==============================] - 114s 127ms/step - loss: 1.3522 - accuracy: 0.4841 - precision: 0.2345 - recall: 0.8715 - val_loss: 1.2322 - val_accuracy: 0.5286 - val_precision: 0.2283 - val_recall: 0.9164\n",
      "Epoch 7/20\n",
      "898/898 [==============================] - 126s 141ms/step - loss: 1.2818 - accuracy: 0.5107 - precision: 0.2341 - recall: 0.8899 - val_loss: 1.1643 - val_accuracy: 0.5541 - val_precision: 0.2499 - val_recall: 0.9046\n",
      "Epoch 8/20\n",
      "898/898 [==============================] - 119s 133ms/step - loss: 1.1911 - accuracy: 0.5459 - precision: 0.2515 - recall: 0.9008 - val_loss: 1.1175 - val_accuracy: 0.5710 - val_precision: 0.2509 - val_recall: 0.9147\n",
      "Epoch 9/20\n",
      "898/898 [==============================] - 114s 127ms/step - loss: 1.0636 - accuracy: 0.5983 - precision: 0.2702 - recall: 0.9151 - val_loss: 0.9395 - val_accuracy: 0.6548 - val_precision: 0.2716 - val_recall: 0.9386\n",
      "Epoch 10/20\n",
      "898/898 [==============================] - 117s 130ms/step - loss: 0.9076 - accuracy: 0.6610 - precision: 0.2985 - recall: 0.9314 - val_loss: 0.7508 - val_accuracy: 0.7243 - val_precision: 0.3102 - val_recall: 0.9556\n",
      "Epoch 11/20\n",
      "898/898 [==============================] - 118s 131ms/step - loss: 0.7396 - accuracy: 0.7266 - precision: 0.3341 - recall: 0.9454 - val_loss: 0.5881 - val_accuracy: 0.7881 - val_precision: 0.3553 - val_recall: 0.9615\n",
      "Epoch 12/20\n",
      "898/898 [==============================] - 121s 135ms/step - loss: 0.5792 - accuracy: 0.7901 - precision: 0.3804 - recall: 0.9557 - val_loss: 0.4428 - val_accuracy: 0.8413 - val_precision: 0.4011 - val_recall: 0.9706\n",
      "Epoch 13/20\n",
      "898/898 [==============================] - 120s 134ms/step - loss: 0.4421 - accuracy: 0.8444 - precision: 0.4153 - recall: 0.9689 - val_loss: 0.3568 - val_accuracy: 0.8756 - val_precision: 0.4250 - val_recall: 0.9772\n",
      "Epoch 14/20\n",
      "898/898 [==============================] - 119s 132ms/step - loss: 0.3404 - accuracy: 0.8846 - precision: 0.4579 - recall: 0.9765 - val_loss: 0.3118 - val_accuracy: 0.8965 - val_precision: 0.4546 - val_recall: 0.9808\n",
      "Epoch 15/20\n",
      "898/898 [==============================] - 118s 132ms/step - loss: 0.2747 - accuracy: 0.9079 - precision: 0.4931 - recall: 0.9801 - val_loss: 0.1979 - val_accuracy: 0.9377 - val_precision: 0.5002 - val_recall: 0.9895\n",
      "Epoch 16/20\n",
      "898/898 [==============================] - 118s 131ms/step - loss: 0.2142 - accuracy: 0.9312 - precision: 0.5176 - recall: 0.9863 - val_loss: 0.1748 - val_accuracy: 0.9464 - val_precision: 0.5231 - val_recall: 0.9908\n",
      "Epoch 17/20\n",
      "898/898 [==============================] - 113s 126ms/step - loss: 0.2019 - accuracy: 0.9377 - precision: 0.5340 - recall: 0.9873 - val_loss: 0.2175 - val_accuracy: 0.9324 - val_precision: 0.5282 - val_recall: 0.9843\n",
      "Epoch 18/20\n",
      "898/898 [==============================] - 150s 167ms/step - loss: 0.1600 - accuracy: 0.9516 - precision: 0.5418 - recall: 0.9905 - val_loss: 0.1026 - val_accuracy: 0.9684 - val_precision: 0.5523 - val_recall: 0.9949\n",
      "Epoch 19/20\n",
      "898/898 [==============================] - 118s 131ms/step - loss: 0.1310 - accuracy: 0.9612 - precision: 0.5719 - recall: 0.9921 - val_loss: 0.1168 - val_accuracy: 0.9646 - val_precision: 0.5863 - val_recall: 0.9935\n",
      "Epoch 20/20\n",
      "898/898 [==============================] - 118s 131ms/step - loss: 0.1255 - accuracy: 0.9622 - precision: 0.5794 - recall: 0.9927 - val_loss: 0.1064 - val_accuracy: 0.9678 - val_precision: 0.5948 - val_recall: 0.9941\n"
     ]
    }
   ],
   "source": [
    "history_1 = model.fit(train_data_gen,\n",
    "      steps_per_epoch=STEPS_PER_EPOCH,\n",
    "      epochs=20,\n",
    "    validation_data=val_data_gen)"
   ]
  },
  {
   "cell_type": "code",
   "execution_count": 7,
   "id": "43e0ebe1",
   "metadata": {
    "execution": {
     "iopub.execute_input": "2023-01-15T15:41:49.203483Z",
     "iopub.status.busy": "2023-01-15T15:41:49.203115Z",
     "iopub.status.idle": "2023-01-15T15:42:25.013338Z",
     "shell.execute_reply": "2023-01-15T15:42:25.012362Z"
    },
    "papermill": {
     "duration": 36.824604,
     "end_time": "2023-01-15T15:42:25.015358",
     "exception": false,
     "start_time": "2023-01-15T15:41:48.190754",
     "status": "completed"
    },
    "tags": []
   },
   "outputs": [
    {
     "name": "stdout",
     "output_type": "stream",
     "text": [
      "225/225 [==============================] - 36s 159ms/step - loss: 3.1390 - accuracy: 0.5304 - precision: 0.3730 - recall: 0.6948\n",
      "Testing Accuracy [3.1389660835266113, 0.5303705930709839, 0.37299925088882446, 0.6947617530822754]\n"
     ]
    }
   ],
   "source": [
    "print(\"Testing Accuracy\",model.evaluate(test_data_gen )) "
   ]
  },
  {
   "cell_type": "code",
   "execution_count": 8,
   "id": "266bd243",
   "metadata": {
    "execution": {
     "iopub.execute_input": "2023-01-15T15:42:27.211329Z",
     "iopub.status.busy": "2023-01-15T15:42:27.210948Z",
     "iopub.status.idle": "2023-01-15T15:42:33.419806Z",
     "shell.execute_reply": "2023-01-15T15:42:33.418490Z"
    },
    "papermill": {
     "duration": 7.411036,
     "end_time": "2023-01-15T15:42:33.431028",
     "exception": false,
     "start_time": "2023-01-15T15:42:26.019992",
     "status": "completed"
    },
    "tags": []
   },
   "outputs": [],
   "source": [
    "model.save('my_model.h5')"
   ]
  }
 ],
 "metadata": {
  "kernelspec": {
   "display_name": "Python 3",
   "language": "python",
   "name": "python3"
  },
  "language_info": {
   "codemirror_mode": {
    "name": "ipython",
    "version": 3
   },
   "file_extension": ".py",
   "mimetype": "text/x-python",
   "name": "python",
   "nbconvert_exporter": "python",
   "pygments_lexer": "ipython3",
   "version": "3.7.12"
  },
  "papermill": {
   "default_parameters": {},
   "duration": 2773.395168,
   "end_time": "2023-01-15T15:42:38.658323",
   "environment_variables": {},
   "exception": null,
   "input_path": "__notebook__.ipynb",
   "output_path": "__notebook__.ipynb",
   "parameters": {},
   "start_time": "2023-01-15T14:56:25.263155",
   "version": "2.3.4"
  }
 },
 "nbformat": 4,
 "nbformat_minor": 5
}
